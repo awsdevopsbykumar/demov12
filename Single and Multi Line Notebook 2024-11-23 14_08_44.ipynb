{
 "cells": [
  {
   "cell_type": "code",
   "execution_count": 0,
   "metadata": {
    "application/vnd.databricks.v1+cell": {
     "cellMetadata": {
      "byteLimit": 2048000,
      "rowLimit": 10000
     },
     "inputWidgets": {},
     "nuid": "f42976bf-552c-4d51-bb35-92bd073767b0",
     "showTitle": false,
     "tableResultSettingsMap": {},
     "title": ""
    }
   },
   "outputs": [],
   "source": [
    "from pyspark.sql import SparkSession\n",
    "spark = SparkSession.builder.getOrCreate()"
   ]
  },
  {
   "cell_type": "code",
   "execution_count": 0,
   "metadata": {
    "application/vnd.databricks.v1+cell": {
     "cellMetadata": {
      "byteLimit": 2048000,
      "rowLimit": 10000
     },
     "inputWidgets": {},
     "nuid": "0ac250a9-f683-49e8-bcc9-58f798262d46",
     "showTitle": false,
     "tableResultSettingsMap": {},
     "title": ""
    }
   },
   "outputs": [],
   "source": [
    "json_data=[\n",
    "    {\"id\":1,\"name\":\"iPhone 12\",\"category\":\"Electronics\",\"quantity\":10,\"price\":899.99},\n",
    "    {\"id\":2,\"name\":\"Nike Air90\",\"category\":\"Clothing\",\"quantity\":25,\"price\":119.99},\n",
    "    {\"id\":3,\"name\":\"KitchenAid\",\"category\":\"Home\",\"quantity\":5,\"price\":299.99}\n",
    "]"
   ]
  },
  {
   "cell_type": "code",
   "execution_count": 0,
   "metadata": {
    "application/vnd.databricks.v1+cell": {
     "cellMetadata": {
      "byteLimit": 2048000,
      "rowLimit": 10000
     },
     "inputWidgets": {},
     "nuid": "03c98a81-d4f2-4e4e-8ce5-82e17d690299",
     "showTitle": false,
     "tableResultSettingsMap": {},
     "title": ""
    }
   },
   "outputs": [
    {
     "output_type": "stream",
     "name": "stdout",
     "output_type": "stream",
     "text": [
      "+-----------+---+----------+------+--------+\n|   category| id|      name| price|quantity|\n+-----------+---+----------+------+--------+\n|Electronics|  1| iPhone 12|899.99|      10|\n|   Clothing|  2|Nike Air90|119.99|      25|\n|       Home|  3|KitchenAid|299.99|       5|\n+-----------+---+----------+------+--------+\n\n"
     ]
    }
   ],
   "source": [
    "df_from_string = spark.createDataFrame(json_data)\n",
    "\n",
    "# Show DataFrame\n",
    "df_from_string.show()"
   ]
  },
  {
   "cell_type": "code",
   "execution_count": 0,
   "metadata": {
    "application/vnd.databricks.v1+cell": {
     "cellMetadata": {
      "byteLimit": 2048000,
      "rowLimit": 10000
     },
     "inputWidgets": {},
     "nuid": "bab69beb-a72b-42d3-98bb-4d108045ba58",
     "showTitle": false,
     "tableResultSettingsMap": {},
     "title": ""
    }
   },
   "outputs": [],
   "source": [
    "json_data_nested = [\n",
    "    {\"name\": \"Charlie\", \"age\": 35, \"address\": {\"city\": \"Chicago\", \"state\": \"IL\"}},\n",
    "    {\"name\": \"Diana\", \"age\": 28, \"address\": {\"city\": \"Houston\", \"state\": \"TX\"}}\n",
    "]\n"
   ]
  },
  {
   "cell_type": "code",
   "execution_count": 0,
   "metadata": {
    "application/vnd.databricks.v1+cell": {
     "cellMetadata": {
      "byteLimit": 2048000,
      "rowLimit": 10000
     },
     "inputWidgets": {},
     "nuid": "8b986b64-01af-4e1b-b213-9372d396b9c1",
     "showTitle": false,
     "tableResultSettingsMap": {},
     "title": ""
    }
   },
   "outputs": [
    {
     "output_type": "stream",
     "name": "stdout",
     "output_type": "stream",
     "text": [
      "+------------------------------+---+-------+\n|address                       |age|name   |\n+------------------------------+---+-------+\n|{city -> Chicago, state -> IL}|35 |Charlie|\n|{city -> Houston, state -> TX}|28 |Diana  |\n+------------------------------+---+-------+\n\nroot\n |-- address: map (nullable = true)\n |    |-- key: string\n |    |-- value: string (valueContainsNull = true)\n |-- age: long (nullable = true)\n |-- name: string (nullable = true)\n\n"
     ]
    }
   ],
   "source": [
    "df_from_string = spark.createDataFrame(json_data_nested)\n",
    "\n",
    "# Show DataFrame with nested structure\n",
    "df_from_string.show(truncate=False)\n",
    "df_from_string.printSchema()"
   ]
  }
 ],
 "metadata": {
  "application/vnd.databricks.v1+notebook": {
   "dashboards": [],
   "environmentMetadata": null,
   "language": "python",
   "notebookMetadata": {
    "pythonIndentUnit": 4
   },
   "notebookName": "Single and Multi Line Notebook 2024-11-23 14:08:44",
   "widgets": {}
  }
 },
 "nbformat": 4,
 "nbformat_minor": 0
}
